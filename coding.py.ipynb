{
 "cells": [
  {
   "cell_type": "markdown",
   "metadata": {},
   "source": [
    "## Wifi datasets"
   ]
  },
  {
   "cell_type": "markdown",
   "metadata": {},
   "source": [
    "### 1. Loading packages"
   ]
  },
  {
   "cell_type": "code",
   "execution_count": 11,
   "metadata": {},
   "outputs": [],
   "source": [
    "from scipy.io import loadmat\n",
    "import pandas as pd\n",
    "import numpy as np\n",
    "import os as os\n",
    "# Evaluation of the model\n",
    "from sklearn.model_selection import KFold, train_test_split\n",
    "from sklearn.svm import SVC \n",
    "from sklearn.metrics import classification_report, confusion_matrix \n",
    "from sklearn.model_selection import GridSearchCV \n",
    "import matplotlib.pyplot as plt\n",
    "from sklearn.metrics import plot_confusion_matrix\n",
    "import plotly.express as px\n",
    "import ipywidgets as widgets\n",
    "from ipywidgets import interact, interact_manual\n",
    "from IPython.core.debugger import set_trace"
   ]
  },
  {
   "cell_type": "markdown",
   "metadata": {},
   "source": [
    "### 2. Converting `mat` files to `csv`"
   ]
  },
  {
   "cell_type": "code",
   "execution_count": null,
   "metadata": {},
   "outputs": [],
   "source": [
    "#Convert mat to .csv (do not run)\n",
    "#path_file = \"./feature_matrices/\"\n",
    "#entries = os.listdir(path_file)\n",
    "#for entry in entries:\n",
    "#    x = loadmat(entry)\n",
    "#    data = pd.DataFrame(x['features'])\n",
    "#    data.to_csv(entry.split(\".mat\")[0]+\".csv\",index=False)   "
   ]
  },
  {
   "cell_type": "markdown",
   "metadata": {},
   "source": [
    "### 3. Feature relationship"
   ]
  },
  {
   "cell_type": "code",
   "execution_count": 5,
   "metadata": {},
   "outputs": [
    {
     "data": {
      "application/vnd.jupyter.widget-view+json": {
       "model_id": "ed89c57139bb4fb08b9f619f3c4df06f",
       "version_major": 2,
       "version_minor": 0
      },
      "text/plain": [
       "interactive(children=(Dropdown(description='feature1', options=('fe1', 'fe2', 'fe3', 'fe4', 'fe5', 'fe6', 'fe7…"
      ]
     },
     "metadata": {},
     "output_type": "display_data"
    }
   ],
   "source": [
    "######--------------------- Select the dataset ---------------------######\n",
    "data = pd.read_csv(\"./feature_matrices/2_class_features_ideal.csv\")\n",
    "#data = pd.read_csv(\"./feature_matrices/2_class_features_least_ideal.csv\")\n",
    "#data = pd.read_csv(\"./feature_matrices/2_class_features_movingdoors.csv\")\n",
    "#data = pd.read_csv(\"./feature_matrices/2_class_features_occupant_variability.csv\")\n",
    "#data = pd.read_csv(\"./feature_matrices/5_class_feature_matrix_chamber.csv\")\n",
    "#data = pd.read_csv(\"./feature_matrices/5_class_feature_matrix.csv\")\n",
    "#data = pd.read_csv(\"./feature_matrices/identifying_people_features.csv\")\n",
    "######--------------------- Select the dataset ---------------------######\n",
    "\n",
    "df['class'], _ = pd.factorize(df['class'])\n",
    "# Plot features distributions\n",
    "@interact\n",
    "def get_column(feature1 = list(df.select_dtypes('number').columns[:-1]),\n",
    "              feature2 = list(df.select_dtypes('number').columns[:-1])):\n",
    "    aux = pd.DataFrame(df[[feature1, feature2, \"class\"]])\n",
    "    aux.columns = [\"feature1\", \"feature2\",\"class\"]\n",
    "    fig = px.scatter(aux, y=\"feature1\", x=\"feature2\", color='class')\n",
    "    fig.show()"
   ]
  },
  {
   "cell_type": "markdown",
   "metadata": {},
   "source": [
    "### 4. Classifying using holdout"
   ]
  },
  {
   "cell_type": "code",
   "execution_count": 6,
   "metadata": {},
   "outputs": [
    {
     "name": "stdout",
     "output_type": "stream",
     "text": [
      "              precision    recall  f1-score   support\n",
      "\n",
      "           0       0.99      0.98      0.99      2805\n",
      "           1       0.97      0.99      0.98      1615\n",
      "\n",
      "    accuracy                           0.99      4420\n",
      "   macro avg       0.98      0.99      0.98      4420\n",
      "weighted avg       0.99      0.99      0.99      4420\n",
      "\n"
     ]
    },
    {
     "data": {
      "image/png": "[encoded data removed]",
      "text/plain": [
       "<Figure size 432x288 with 2 Axes>"
      ]
     },
     "metadata": {
      "needs_background": "light"
     },
     "output_type": "display_data"
    }
   ],
   "source": [
    "######--------------------- Select the dataset ---------------------######\n",
    "data = pd.read_csv(\"./feature_matrices/2_class_features_ideal.csv\")\n",
    "#data = pd.read_csv(\"./feature_matrices/2_class_features_least_ideal.csv\")\n",
    "#data = pd.read_csv(\"./feature_matrices/2_class_features_movingdoors.csv\")\n",
    "#data = pd.read_csv(\"./feature_matrices/2_class_features_occupant_variability.csv\")\n",
    "#data = pd.read_csv(\"./feature_matrices/5_class_feature_matrix_chamber.csv\")\n",
    "#data = pd.read_csv(\"./feature_matrices/5_class_feature_matrix.csv\")\n",
    "#data = pd.read_csv(\"./feature_matrices/identifying_people_features.csv\")\n",
    "######--------------------- Select the dataset ---------------------######\n",
    "\n",
    "data['class'], _ = pd.factorize(data['class'])\n",
    "X = data.drop([\"class\"], axis=1)\n",
    "y = data[\"class\"]\n",
    "\n",
    "# Get training and test sets\n",
    "x_train, x_test, y_train, y_test = train_test_split(X, y,\n",
    "                                                    test_size=0.20,\n",
    "                                                    random_state=0)\n",
    "# SVC with default parameters values\n",
    "model = SVC(kernel=\"poly\") \n",
    "model.fit(x_train, y_train)\n",
    "predictions = model.predict(x_test) \n",
    "print(classification_report(y_test, predictions)) \n",
    "plot_confusion_matrix(model, x_test, y_test, normalize=\"pred\") \n",
    "plt.show()"
   ]
  },
  {
   "cell_type": "markdown",
   "metadata": {},
   "source": [
    "### 4. Attribute selection"
   ]
  },
  {
   "cell_type": "code",
   "execution_count": 7,
   "metadata": {},
   "outputs": [
    {
     "name": "stdout",
     "output_type": "stream",
     "text": [
      "              precision    recall  f1-score   support\n",
      "\n",
      "           0       0.99      0.98      0.99      2805\n",
      "           1       0.96      0.99      0.97      1615\n",
      "\n",
      "    accuracy                           0.98      4420\n",
      "   macro avg       0.98      0.98      0.98      4420\n",
      "weighted avg       0.98      0.98      0.98      4420\n",
      "\n"
     ]
    },
    {
     "data": {
      "image/png": "[encoded data removed]",
      "text/plain": [
       "<Figure size 432x288 with 2 Axes>"
      ]
     },
     "metadata": {
      "needs_background": "light"
     },
     "output_type": "display_data"
    }
   ],
   "source": [
    "from sklearn.feature_selection import SelectKBest\n",
    "from sklearn.ensemble import ExtraTreesClassifier\n",
    "from sklearn.feature_selection import mutual_info_classif\n",
    "\n",
    "######--------------------- Select the dataset ---------------------######\n",
    "data = pd.read_csv(\"./feature_matrices/2_class_features_ideal.csv\")\n",
    "#data = pd.read_csv(\"./feature_matrices/2_class_features_least_ideal.csv\")\n",
    "#data = pd.read_csv(\"./feature_matrices/2_class_features_movingdoors.csv\")\n",
    "#data = pd.read_csv(\"./feature_matrices/2_class_features_occupant_variability.csv\")\n",
    "#data = pd.read_csv(\"./feature_matrices/5_class_feature_matrix_chamber.csv\")\n",
    "#data = pd.read_csv(\"./feature_matrices/5_class_feature_matrix.csv\")\n",
    "#data = pd.read_csv(\"./feature_matrices/identifying_people_features.csv\")\n",
    "######--------------------- Select the dataset ---------------------######\n",
    "\n",
    "data['class'], _ = pd.factorize(data['class'])\n",
    "X = data.drop([\"class\"], axis=1)\n",
    "y = data[\"class\"]\n",
    "\n",
    "model = ExtraTreesClassifier(n_estimators=50)\n",
    "model.fit(X,y)\n",
    "feat_importances = model.feature_importances_  \n",
    "#feat_importances = pd.Series(model.feature_importances_, index=X.columns)\n",
    "#feat_importances.nlargest(5).plot(kind='barh')\n",
    "#indices = np.argsort(model.feature_importances_)[::-1]\n",
    "#plt.show()\n",
    "indices = np.argsort(mutual_info_classif(X, y, discrete_features=True))[::-1]\n",
    "\n",
    "X = X[np.array(X.columns[indices][0:49])]\n",
    "\n",
    "x_train, x_test, y_train, y_test = train_test_split(X, y,\n",
    "                                                    test_size=0.20,\n",
    "                                                    random_state=0)\n",
    "# SVC with default parameters values\n",
    "model = SVC(kernel=\"poly\") \n",
    "model.fit(x_train, y_train)\n",
    "predictions = model.predict(x_test) \n",
    "print(classification_report(y_test, predictions)) \n",
    "plot_confusion_matrix(model, x_test, y_test, normalize=\"pred\") \n",
    "plt.show()\n"
   ]
  },
  {
   "cell_type": "markdown",
   "metadata": {},
   "source": [
    "### 5. PCA analysis"
   ]
  },
  {
   "cell_type": "code",
   "execution_count": 8,
   "metadata": {},
   "outputs": [
    {
     "name": "stdout",
     "output_type": "stream",
     "text": [
      "              precision    recall  f1-score   support\n",
      "\n",
      "           0       0.97      0.96      0.97      2805\n",
      "           1       0.93      0.95      0.94      1615\n",
      "\n",
      "    accuracy                           0.96      4420\n",
      "   macro avg       0.95      0.96      0.95      4420\n",
      "weighted avg       0.96      0.96      0.96      4420\n",
      "\n"
     ]
    },
    {
     "data": {
      "image/png": "[encoded data removed]",
      "text/plain": [
       "<Figure size 432x288 with 2 Axes>"
      ]
     },
     "metadata": {
      "needs_background": "light"
     },
     "output_type": "display_data"
    }
   ],
   "source": [
    "from sklearn.feature_selection import SelectKBest\n",
    "from sklearn.ensemble import ExtraTreesClassifier\n",
    "from sklearn.feature_selection import mutual_info_classif\n",
    "from sklearn.preprocessing import StandardScaler\n",
    "from sklearn.decomposition import PCA\n",
    "\n",
    "\n",
    "######--------------------- Select the dataset ---------------------######\n",
    "data = pd.read_csv(\"./feature_matrices/2_class_features_ideal.csv\")\n",
    "#data = pd.read_csv(\"./feature_matrices/2_class_features_least_ideal.csv\")\n",
    "#data = pd.read_csv(\"./feature_matrices/2_class_features_movingdoors.csv\")\n",
    "#data = pd.read_csv(\"./feature_matrices/2_class_features_occupant_variability.csv\")\n",
    "#data = pd.read_csv(\"./feature_matrices/5_class_feature_matrix_chamber.csv\")\n",
    "#data = pd.read_csv(\"./feature_matrices/5_class_feature_matrix.csv\")\n",
    "#data = pd.read_csv(\"./feature_matrices/identifying_people_features.csv\")\n",
    "######--------------------- Select the dataset ---------------------######\n",
    "\n",
    "\n",
    "data['class'], _ = pd.factorize(data['class'])\n",
    "X = data.drop([\"class\"], axis=1)\n",
    "y = data[\"class\"]\n",
    "\n",
    "x_train, x_test, y_train, y_test = train_test_split(X, y,\n",
    "                                                    test_size=0.20,\n",
    "                                                    random_state=0)\n",
    "\n",
    "scaler = StandardScaler()\n",
    "# Fit on training set only.\n",
    "scaler.fit(x_train)\n",
    "\n",
    "# Apply transform to both the training set and the test set.\n",
    "x_train = scaler.transform(x_train)\n",
    "x_test = scaler.transform(x_test)\n",
    "\n",
    "pca = PCA(.9)\n",
    "pca.fit(x_train)\n",
    "x_train = pca.transform(x_train)\n",
    "x_test = pca.transform(x_test)\n",
    "\n",
    "# SVC with default parameters values\n",
    "model = SVC(kernel=\"poly\") \n",
    "model.fit(x_train, y_train)\n",
    "predictions = model.predict(x_test) \n",
    "print(classification_report(y_test, predictions)) \n",
    "plot_confusion_matrix(model, x_test, y_test, normalize=\"pred\") \n",
    "plt.show()\n",
    "\n",
    "\n"
   ]
  },
  {
   "cell_type": "markdown",
   "metadata": {},
   "source": [
    "### 6. GridSearch methodology"
   ]
  },
  {
   "cell_type": "code",
   "execution_count": null,
   "metadata": {},
   "outputs": [],
   "source": [
    "# Searching more appropriate SVC parameters\n",
    "# Method for each csv file:\n",
    "# 1. Split the data into the train and test sets (70% for training and 30% for testing)\n",
    "# 2. Use GridsearchCV to find out better parameters for Support Vector Classifier\n",
    "#       C: [0.1, 1, 10, 100, 1000, 10000]  \n",
    "#       gamma: [1, 0.1, 0.01, 0.001, 0.0001, 0.00001, 1 / (x_train.shape[0] * x_train.var())[0]] \n",
    "#       kernel: [‘linear’, ‘poly’, ‘rbf’, ‘sigmoid’, ‘precomputed’]\n",
    "# 3. Built a SVC using the best parameter setting with whole training set\n",
    "# 4. Use the tuned SVC to get the predictions for each instance from the testing set\n",
    "\n",
    "\n",
    "path_file = \"./feature_matrices/\"\n",
    "entries = os.listdir(path_file)\n",
    "results = pd.DataFrame()\n",
    "for entry in entries:\n",
    "    df = pd.read_csv(path_file+entry)\n",
    "    print(path_file+entry)\n",
    "    df['class'], _ = pd.factorize(df['class'])\n",
    "    X = df.drop([\"class\"], axis=1)\n",
    "    y = df[\"class\"]\n",
    "\n",
    "    # Step - 1: Sample rows (80% for training, 20% for testing)\n",
    "    x_train, x_test, y_train, y_test = train_test_split(X, y,\n",
    "                                                        test_size=0.20,\n",
    "                                                        random_state=0,\n",
    "                                                        stratify=y)\n",
    "    test_p = pd.concat([x_test, y_test], axis=1)\n",
    "    test_p.to_csv(\"./test_\"+entry, index=False)\n",
    "\n",
    "    # Step - 2: Applying GridsearchCV \n",
    "    # defining parameter range \n",
    "    param_grid = {'C': [0.1, 1, 10, 100, 1000], \n",
    "                  'gamma': [1, 0.1, 0.01, 0.001, 0.0001, 1 / (x_train.shape[0] * x_train.var())[0]],  \n",
    "                  'kernel': ['linear', 'poly', 'rbf', 'sigmoid']} \n",
    "\n",
    "    # Running the grid search\n",
    "    grid = GridSearchCV(SVC(), param_grid, refit = True, cv=5, verbose=2)\n",
    "\n",
    "    # Step - 3: Building the SVC using the best parameter setting with whole training set\n",
    "    grid.fit(x_train, y_train) \n",
    "\n",
    "    # print best parameter after tuning \n",
    "    print(grid.best_params_) \n",
    "\n",
    "    # Step - 4: Using the tuned SVC to get the predictions for each instance from the testing set\n",
    "    grid_predictions = grid.predict(x_test)\n",
    "    print(classification_report(y_test, grid_predictions))\n",
    "    bp = np.transpose(pd.DataFrame([entry,grid.best_params_[\"C\"], grid.best_params_[\"gamma\"], grid.best_params_[\"kernel\"]]))\n",
    "    bp.columns=[\"file\",\"C\", \"gamma\", \"kernel\"]\n",
    "    results = results.append(pd.DataFrame(bp))\n",
    "    \n",
    "results.to_csv(\"./gridSearch_result.csv\",index=False)\n"
   ]
  },
  {
   "cell_type": "markdown",
   "metadata": {},
   "source": [
    "#### 6.1 Results of GridSearch"
   ]
  },
  {
   "cell_type": "markdown",
   "metadata": {},
   "source": [
    "Dataset| Kernel | Gamma | C\n",
    "-------|--------|-------|-------\n",
    "identifying_people_features.csv | poly | 1 | 0.1\n",
    "2_class_features_ideal.csv | poly | 0.0001 | 0.1 \n",
    "5_class_feature_matrix.csv | poly | 0.0001 | 0.1\n",
    "5_class_feature_matrix_chamber.csv | poly | 0.0001 | 0.1\n",
    "\n"
   ]
  },
  {
   "cell_type": "markdown",
   "metadata": {},
   "source": [
    "### 7. Using tuned parameters"
   ]
  },
  {
   "cell_type": "code",
   "execution_count": 9,
   "metadata": {},
   "outputs": [
    {
     "name": "stdout",
     "output_type": "stream",
     "text": [
      "              precision    recall  f1-score   support\n",
      "\n",
      "           0       0.99      1.00      1.00      1128\n",
      "           1       0.97      0.99      0.98      1096\n",
      "           2       0.99      0.98      0.99      1218\n",
      "           3       0.98      0.97      0.98      1050\n",
      "           4       0.99      0.98      0.98      1108\n",
      "\n",
      "    accuracy                           0.98      5600\n",
      "   macro avg       0.98      0.98      0.98      5600\n",
      "weighted avg       0.98      0.98      0.98      5600\n",
      "\n"
     ]
    },
    {
     "data": {
      "image/png": "[encoded data removed]",
      "text/plain": [
       "<Figure size 432x288 with 2 Axes>"
      ]
     },
     "metadata": {
      "needs_background": "light"
     },
     "output_type": "display_data"
    }
   ],
   "source": [
    "######--------------------- Select the dataset ---------------------######\n",
    "#data = pd.read_csv(\"./feature_matrices/identifying_people_features.csv\")\n",
    "#data = pd.read_csv(\"./feature_matrices/2_class_features_ideal.csv\")\n",
    "#data = pd.read_csv(\"./feature_matrices/5_class_feature_matrix.csv\")\n",
    "data = pd.read_csv(\"./feature_matrices/5_class_feature_matrix_chamber.csv\")\n",
    "######--------------------- Select the dataset ---------------------######\n",
    "\n",
    "data['class'], _ = pd.factorize(data['class'])\n",
    "X = data.drop([\"class\"], axis=1)\n",
    "y = data[\"class\"]\n",
    "\n",
    "# Get training and test sets\n",
    "x_train, x_test, y_train, y_test = train_test_split(X, y,\n",
    "                                                    test_size=0.20,\n",
    "                                                    random_state=0)\n",
    "# SVC with default parameters values\n",
    "#model = SVC(kernel=\"poly\", gamma=1, C=0.1) # for identifying_people_features.csv\n",
    "#model = SVC(kernel=\"poly\", gamma=0.0001, C=0.1) # for 2_class_features_ideal.csv\n",
    "#model = SVC(kernel=\"poly\", gamma=0.0001, C=0.1) # for 5_class_feature_matrix.csv\n",
    "model = SVC(kernel=\"poly\", gamma=0.0001, C=0.1) # for 5_class_feature_matrix_chamber.csv\n",
    "\n",
    "model.fit(x_train, y_train)\n",
    "predictions = model.predict(x_test) \n",
    "print(classification_report(y_test, predictions)) \n",
    "plot_confusion_matrix(model, x_test, y_test, normalize=\"pred\") \n",
    "plt.show()"
   ]
  },
  {
   "cell_type": "code",
   "execution_count": null,
   "metadata": {},
   "outputs": [],
   "source": []
  }
 ],
 "metadata": {
  "kernelspec": {
   "display_name": "Python 3",
   "language": "python",
   "name": "python3"
  },
  "language_info": {
   "codemirror_mode": {
    "name": "ipython",
    "version": 3
   },
   "file_extension": ".py",
   "mimetype": "text/x-python",
   "name": "python",
   "nbconvert_exporter": "python",
   "pygments_lexer": "ipython3",
   "version": "3.7.5"
  }
 },
 "nbformat": 4,
 "nbformat_minor": 4
}
